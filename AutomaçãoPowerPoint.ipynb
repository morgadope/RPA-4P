{
  "nbformat": 4,
  "nbformat_minor": 2,
  "metadata": {
    "orig_nbformat": 4,
    "language_info": {
      "name": "python",
      "version": "3.9.5",
      "mimetype": "text/x-python",
      "codemirror_mode": {
        "name": "ipython",
        "version": 3
      },
      "pygments_lexer": "ipython3",
      "nbconvert_exporter": "python",
      "file_extension": ".py"
    },
    "kernelspec": {
      "name": "python3",
      "display_name": "Python 3.9.5 64-bit"
    },
    "interpreter": {
      "hash": "07a6d4f54895889cb6530bf38d937b13657725c0c0a3ec69e332a822101ef5dd"
    },
    "colab": {
      "name": "powerpoint.ipynb",
      "provenance": []
    }
  },
  "cells": [
    {
      "cell_type": "code",
      "execution_count": 12,
      "source": [
        "import pyautogui as pg\r\n",
        "import time\r\n",
        "from datetime import datetime,timedelta\r\n"
      ],
      "outputs": [],
      "metadata": {
        "id": "KdE1-o_OctEV"
      }
    },
    {
      "cell_type": "code",
      "execution_count": 15,
      "source": [
        "data = datetime.now()\r\n",
        "data+=timedelta(days=-1)\r\n",
        "data = (format(data,\"%d/%m/%Y\"))\r\n",
        "book_alvorada= 'Copacol Alvorada'\r\n",
        "book_barcelos  = 'Copacol Barcelos'\r\n",
        "book_barra = 'Copacol Barra oeste'\r\n",
        "book_casa = 'Copacol casa do sabao'\r\n",
        "book_compre = 'Copacol Compre mais '\r\n",
        "book_gmap = 'Copacol Gmap'\r\n",
        "book_guanabara = 'Copacol Guanabara'\r\n",
        "book_pd = 'Copacol Pd Fonseca'\r\n",
        "book_ramigos = 'Copacol Ramigos'\r\n",
        "book_super = 'Copacol Superprix'\r\n",
        "book_torre = 'Copacol Torre'\r\n",
        "book_prezunic ='Copacol Prezunic'\r\n",
        "book_obom = 'Copacol O Bom' \r\n",
        "book_dom = 'Copacol Dom '\r\n",
        "book_alvo = 'Copacol Alvo Atacado'\r\n",
        "\r\n",
        "lista_de_books  = [book_alvorada, book_barcelos, book_barra, book_casa, book_compre, book_gmap, book_guanabara, book_pd, book_ramigos, book_super,book_torre, book_prezunic, \r\n",
        "book_obom, book_dom, book_alvo]\r\n"
      ],
      "outputs": [
        {
          "output_type": "stream",
          "name": "stdout",
          "text": [
            "25/08/2021\n"
          ]
        }
      ],
      "metadata": {
        "id": "LdKrOFd4ctEX"
      }
    },
    {
      "cell_type": "code",
      "execution_count": 14,
      "source": [
        "#pesquisar  \r\n",
        "time.sleep(3)\r\n",
        "for books in lista_de_books:\r\n",
        "  pg.press('win')\r\n",
        "  time.sleep(1)\r\n",
        "  pg.write(books)\r\n",
        "  pg.press('backspace')\r\n",
        "  time.sleep(2)\r\n",
        "  pg.press('enter')\r\n",
        "  #Nomear \r\n",
        "  time.sleep (2)\r\n",
        "  pg.click(x=772, y=380)\r\n",
        "  time.sleep(3)\r\n",
        "  pg.write(books)\r\n",
        "  pg.click(x=928, y=482)\r\n",
        "  pg.sleep(2)\r\n",
        "  pg.write(data)  #tema\r\n",
        "  time.sleep(3)\r\n",
        "  pg.click(x=259, y=48)\r\n",
        "  time.sleep(2)\r\n",
        "  pg.click(x=152, y=97)\r\n",
        "  #edição\r\n",
        "  pg.click(x=1017, y=609)\r\n",
        "  pg.press('delete')\r\n",
        "  #salvar arquivo\r\n",
        "  pg.click(x=33, y=13)\r\n",
        "  #fechar janela\r\n",
        "  pg.click(x=1337, y=13)\r\n",
        "  time.sleep(5)\r\n"
      ],
      "outputs": [],
      "metadata": {
        "id": "s-M34vgWctEZ"
      }
    }
  ]
}