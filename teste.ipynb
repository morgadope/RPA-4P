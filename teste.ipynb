{
 "cells": [
  {
   "cell_type": "markdown",
   "source": [
    "# Imprimi dia anterior caso seja segunda dia - 2"
   ],
   "metadata": {}
  },
  {
   "cell_type": "code",
   "execution_count": null,
   "source": [
    "from datetime import timedelta,datetime\r\n",
    "\r\n",
    "\r\n",
    "data = datetime.now()\r\n",
    "\r\n",
    "if datetime.today().weekday() !=0:\r\n",
    "    data=+timedelta(days=-1)\r\n",
    "else:\r\n",
    "    data=+timedelta(days=-2)\r\n",
    "    data=(format(data,\"%d/%m/%Y\"))\r\n",
    "    print(data)"
   ],
   "outputs": [],
   "metadata": {}
  },
  {
   "cell_type": "code",
   "execution_count": null,
   "source": [],
   "outputs": [],
   "metadata": {}
  }
 ],
 "metadata": {
  "orig_nbformat": 4,
  "language_info": {
   "name": "python",
   "version": "3.9.5",
   "mimetype": "text/x-python",
   "codemirror_mode": {
    "name": "ipython",
    "version": 3
   },
   "pygments_lexer": "ipython3",
   "nbconvert_exporter": "python",
   "file_extension": ".py"
  },
  "kernelspec": {
   "name": "python3",
   "display_name": "Python 3.9.5 64-bit"
  },
  "interpreter": {
   "hash": "11e3bc8161ab6b796458d7b0073fb875b15767c94894a8c47da2c909a7b0c5b1"
  }
 },
 "nbformat": 4,
 "nbformat_minor": 2
}