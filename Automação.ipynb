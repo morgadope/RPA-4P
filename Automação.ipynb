{
 "cells": [
  {
   "cell_type": "markdown",
   "source": [
    "# Importando Bibliotecas "
   ],
   "metadata": {}
  },
  {
   "cell_type": "code",
   "execution_count": 54,
   "source": [
    "from selenium import webdriver \r\n",
    "from selenium.webdriver.common.keys import Keys\r\n",
    "import time"
   ],
   "outputs": [],
   "metadata": {}
  },
  {
   "cell_type": "markdown",
   "source": [
    "# Definindo Navegador"
   ],
   "metadata": {}
  },
  {
   "cell_type": "code",
   "execution_count": 55,
   "source": [
    "\r\n",
    "browser = webdriver.Chrome()\r\n",
    "\r\n",
    "browser.get('https://4pmktcompartilhado.umov.me/CenterWeb/?locale=pt_BR#__main__')\r\n",
    "browser.maximize_window()"
   ],
   "outputs": [],
   "metadata": {}
  },
  {
   "cell_type": "markdown",
   "source": [
    "# Fazendo Login\r\n"
   ],
   "metadata": {}
  },
  {
   "cell_type": "code",
   "execution_count": 56,
   "source": [
    "browser.find_element_by_xpath('//*[@id=\"username\"]').send_keys(\"master\")\r\n",
    "browser.find_element_by_xpath('//*[@id=\"password\"]').send_keys('iq@4p')\r\n",
    "browser.find_element_by_xpath('//*[@id=\"password\"]').send_keys(Keys.RETURN)\r\n",
    "time.sleep(2)"
   ],
   "outputs": [],
   "metadata": {}
  },
  {
   "cell_type": "markdown",
   "source": [
    "# Navegando até ambiente dos books"
   ],
   "metadata": {}
  },
  {
   "cell_type": "code",
   "execution_count": 57,
   "source": [
    "\r\n",
    "browser.find_element_by_xpath(\"//*[@href='/CenterWeb/ureport']\").click()\r\n",
    "time.sleep(3)\r\n"
   ],
   "outputs": [],
   "metadata": {}
  },
  {
   "cell_type": "markdown",
   "source": [
    "# Selecionando filtros"
   ],
   "metadata": {}
  },
  {
   "cell_type": "markdown",
   "source": [],
   "metadata": {}
  }
 ],
 "metadata": {
  "orig_nbformat": 4,
  "language_info": {
   "name": "python",
   "version": "3.9.5",
   "mimetype": "text/x-python",
   "codemirror_mode": {
    "name": "ipython",
    "version": 3
   },
   "pygments_lexer": "ipython3",
   "nbconvert_exporter": "python",
   "file_extension": ".py"
  },
  "kernelspec": {
   "name": "python3",
   "display_name": "Python 3.9.5 64-bit"
  },
  "interpreter": {
   "hash": "11e3bc8161ab6b796458d7b0073fb875b15767c94894a8c47da2c909a7b0c5b1"
  }
 },
 "nbformat": 4,
 "nbformat_minor": 2
}