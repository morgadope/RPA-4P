{
 "cells": [
  {
   "cell_type": "markdown",
   "source": [
    "# Importando Bibliotecas "
   ],
   "metadata": {}
  },
  {
   "cell_type": "code",
   "execution_count": null,
   "source": [
    "from selenium import webdriver \r\n",
    "from selenium.webdriver.common.keys import Keys \r\n",
    "import time\r\n",
    "from datetime import timedelta,datetime\r\n",
    "from selenium.webdriver.support.expected_conditions import frame_to_be_available_and_switch_to_it \r\n",
    "from selenium.webdriver.support.wait import WebDriverWait"
   ],
   "outputs": [],
   "metadata": {}
  },
  {
   "cell_type": "markdown",
   "source": [
    "# Definindo Locais"
   ],
   "metadata": {}
  },
  {
   "cell_type": "code",
   "execution_count": null,
   "source": [
    "locais = [\"SUPERMARTKET - ALOVORADA\",\"SUPERNARKET - BARRA OESTE\",\"BARCELOS\",\"CASA DO SABÃO\"] # Lista que define endereços nome das lojas "
   ],
   "outputs": [],
   "metadata": {}
  },
  {
   "cell_type": "markdown",
   "source": [
    "# Definindo navegador"
   ],
   "metadata": {}
  },
  {
   "cell_type": "code",
   "execution_count": null,
   "source": [
    "navegador = webdriver.Firefox()\r\n",
    "wdw = WebDriverWait(navegador, 10) \r\n",
    "navegador.get('https://4pmktcompartilhado.umov.me/CenterWeb/managementPanel/list#__main__')\r\n",
    "navegador.maximize_window()\r\n",
    "wdw = WebDriverWait(navegador,60)"
   ],
   "outputs": [],
   "metadata": {}
  },
  {
   "cell_type": "markdown",
   "source": [
    "# Tela de login"
   ],
   "metadata": {}
  },
  {
   "cell_type": "code",
   "execution_count": null,
   "source": [
    "navegador.find_element_by_xpath('//*[@id=\"username\"]').send_keys('master')\r\n",
    "navegador.find_element_by_xpath('//*[@id=\"password\"]').send_keys('iq@4p')\r\n",
    "navegador.find_element_by_xpath('//*[@id=\"password\"]').send_keys(Keys.ENTER)\r\n",
    "time.sleep(5)\r\n"
   ],
   "outputs": [],
   "metadata": {}
  },
  {
   "cell_type": "markdown",
   "source": [
    "# Selecionar book de fotos\r\n"
   ],
   "metadata": {}
  },
  {
   "cell_type": "code",
   "execution_count": null,
   "source": [
    "navegador.find_element_by_xpath(\"//a[@href='/CenterWeb/ureport']\").click()\r\n"
   ],
   "outputs": [],
   "metadata": {}
  },
  {
   "cell_type": "markdown",
   "source": [
    "# Selecionando Filtro copacol\r\n"
   ],
   "metadata": {}
  },
  {
   "cell_type": "code",
   "execution_count": null,
   "source": [
    "navegador.switch_to_frame('//*[@id=\"iFrameResizer0\"]') #select \r\n",
    "navegador.find_element_by_css_sel('') # clicar no filtro\r\n",
    "navegador.find_element_by_xpath('') # Selecionar o filtro\r\n"
   ],
   "outputs": [],
   "metadata": {}
  },
  {
   "cell_type": "markdown",
   "source": [
    "# Definindo data"
   ],
   "metadata": {}
  },
  {
   "cell_type": "code",
   "execution_count": null,
   "source": [
    "#corrigir data \r\n",
    "data = datetime.now()\r\n",
    "data = (format(data,\"%d/%m/%Y\"))\r\n",
    "if datetime.today().weekday() !=0:\r\n",
    "    data = data=timedelta(days=-1)\r\n",
    "else:\r\n",
    "    data = data=timedelta(days=-2)\r\n",
    "wdw.until(frame_to_be_available_and_switch_to_it)\r\n",
    "navegador.switch_to_frame('#nome do frame')\r\n",
    "navegador.find_element_by_css_selector('#initial-period-filter').clear()\r\n",
    "navegador.find_element_by_css_selector('#initial-period-filter').send_keys(data)\r\n",
    "navegador.find_element_by_css_selector('#final-period-filter').clear\r\n",
    "navegador.find_element_by_css_selector('#initial-period-filter').send_keys(data)"
   ],
   "outputs": [],
   "metadata": {}
  },
  {
   "cell_type": "markdown",
   "source": [
    "# Definindo Local"
   ],
   "metadata": {}
  },
  {
   "cell_type": "code",
   "execution_count": null,
   "source": [
    "for local in locais:\r\n",
    "    navegador.find_element_by_xpath('#definir xpath de text box ').send_keys(locais)\r\n",
    "    time.sleep(5)\r\n",
    "    navegador.find_element_by_xpath('#clicar no check box do local').click()\r\n",
    "    navegador.find_element_by_xpath('#clicar em filtrar').click()\r\n",
    "    time.sleep(5)  \r\n",
    "    #Enviando para dowloads\r\n",
    "    navegador.find_element_by_xpath('#clicar em selecionar todas as fotos').click()\r\n",
    "    navegador.find_element_by_xpath('#clicar em selecionar').click()\r\n",
    "    navegador.find_element_by_xpath('#clicar em agendar books de fotos').clicl()\r\n",
    "    navegador.back() # volta para pagina anterior "
   ],
   "outputs": [],
   "metadata": {}
  }
 ],
 "metadata": {
  "orig_nbformat": 4,
  "language_info": {
   "name": "python",
   "version": "3.9.5",
   "mimetype": "text/x-python",
   "codemirror_mode": {
    "name": "ipython",
    "version": 3
   },
   "pygments_lexer": "ipython3",
   "nbconvert_exporter": "python",
   "file_extension": ".py"
  },
  "kernelspec": {
   "name": "python3",
   "display_name": "Python 3.9.5 64-bit"
  },
  "interpreter": {
   "hash": "11e3bc8161ab6b796458d7b0073fb875b15767c94894a8c47da2c909a7b0c5b1"
  }
 },
 "nbformat": 4,
 "nbformat_minor": 2
}